{
 "cells": [
  {
   "cell_type": "code",
   "execution_count": 1,
   "id": "c685e81f",
   "metadata": {},
   "outputs": [],
   "source": [
    "import numpy as np\n",
    "import pandas as pd\n",
    "from sklearn.metrics import precision_score\n",
    "from sklearn.metrics import recall_score\n",
    "from sklearn.metrics import accuracy_score\n",
    "from sklearn.ensemble import GradientBoostingClassifier\n",
    "train = pd.read_csv(\"loan_train.csv\").dropna(how='all',axis=1)\n",
    "test = pd.read_csv(\"loan_test.csv\").dropna(how='all',axis=1)\n",
    "train = train.drop(train[train.loan_status == \"Current\"].index).reset_index(drop=True)\n",
    "test = test.drop(test[test.loan_status == \"Current\"].index).reset_index(drop=True)"
   ]
  },
  {
   "cell_type": "code",
   "execution_count": 2,
   "id": "ae4f7f48",
   "metadata": {},
   "outputs": [
    {
     "name": "stderr",
     "output_type": "stream",
     "text": [
      "/tmp/ipykernel_188042/1306930417.py:30: SettingWithCopyWarning: \n",
      "A value is trying to be set on a copy of a slice from a DataFrame\n",
      "\n",
      "See the caveats in the documentation: https://pandas.pydata.org/pandas-docs/stable/user_guide/indexing.html#returning-a-view-versus-a-copy\n",
      "  train['addr_state'][0] = 'IA'\n",
      "/tmp/ipykernel_188042/1306930417.py:31: SettingWithCopyWarning: \n",
      "A value is trying to be set on a copy of a slice from a DataFrame\n",
      "\n",
      "See the caveats in the documentation: https://pandas.pydata.org/pandas-docs/stable/user_guide/indexing.html#returning-a-view-versus-a-copy\n",
      "  train['addr_state'][1] = 'NE'\n"
     ]
    }
   ],
   "source": [
    "train.drop('id', axis=1, inplace=True)\n",
    "train.drop('member_id', axis=1, inplace=True)\n",
    "train['term'] = train['term'].astype('category').cat.codes\n",
    "train.drop('int_rate',axis=1,inplace=True)\n",
    "\n",
    "train['grade'] = train['grade'].astype('category').cat.codes\n",
    "train['sub_grade'] = (train['sub_grade'].astype('category').cat.codes%5)/5\n",
    "train['grade'] += train['sub_grade']\n",
    "train.drop('sub_grade',axis=1,inplace=True)\n",
    "\n",
    "train.drop('emp_title', axis=1, inplace=True)\n",
    "train.drop('emp_length', axis=1, inplace=True)\n",
    "\n",
    "train['home_ownership'].replace(['MORTGAGE','OTHER','RENT'],0,inplace=True)\n",
    "train['home_ownership'].replace('OWN',1,inplace=True)\n",
    "train['home_ownership'] = train['home_ownership'].astype('int8')\n",
    "\n",
    "train['verification_status'].replace('Source Verified','Verified',inplace=True)\n",
    "train['verification_status'] = train['verification_status'].astype('category').cat.codes\n",
    "\n",
    "train.drop('pymnt_plan',axis=1,inplace=True)\n",
    "train.drop('url',axis=1,inplace=True)\n",
    "train.drop('desc',axis=1,inplace=True)\n",
    "\n",
    "train['purpose'] = train['purpose'].astype('category').cat.codes\n",
    "\n",
    "train.drop('title',axis=1,inplace=True)\n",
    "\n",
    "train.drop('zip_code',axis=1,inplace=True)\n",
    "train['addr_state'][0] = 'IA'\n",
    "train['addr_state'][1] = 'NE'\n",
    "train['addr_state'] = train['addr_state'].astype('category').cat.codes\n",
    "\n",
    "train.drop('earliest_cr_line',axis=1,inplace=True)\n",
    "\n",
    "train.drop(['delinq_amnt','chargeoff_within_12_mths','acc_now_delinq','policy_code','next_pymnt_d','application_type','tax_liens','collections_12_mths_ex_med','initial_list_status','revol_util','mths_since_last_delinq','mths_since_last_record','last_pymnt_amnt','last_credit_pull_d','issue_d','last_pymnt_d'], axis=1, inplace=True)\n",
    "train = train[train['pub_rec_bankruptcies'].notna()].reset_index(drop=True)\n",
    "\n",
    "train_labels = train['loan_status'].replace('Charged Off',0).replace('Fully Paid',1).astype('int8')\n",
    "train.drop('loan_status',axis=1,inplace=True)"
   ]
  },
  {
   "cell_type": "code",
   "execution_count": 3,
   "id": "31a9097a",
   "metadata": {},
   "outputs": [
    {
     "name": "stderr",
     "output_type": "stream",
     "text": [
      "/tmp/ipykernel_188042/1652932717.py:30: SettingWithCopyWarning: \n",
      "A value is trying to be set on a copy of a slice from a DataFrame\n",
      "\n",
      "See the caveats in the documentation: https://pandas.pydata.org/pandas-docs/stable/user_guide/indexing.html#returning-a-view-versus-a-copy\n",
      "  test['addr_state'][0] = 'IN'\n"
     ]
    }
   ],
   "source": [
    "test.drop('id', axis=1, inplace=True)\n",
    "test.drop('member_id', axis=1, inplace=True)\n",
    "test['term'] = test['term'].astype('category').cat.codes\n",
    "test.drop('int_rate',axis=1,inplace=True)\n",
    "\n",
    "test['grade'] = test['grade'].astype('category').cat.codes\n",
    "test['sub_grade'] = (test['sub_grade'].astype('category').cat.codes%5)/5\n",
    "test['grade'] += test['sub_grade']\n",
    "test.drop('sub_grade',axis=1,inplace=True)\n",
    "\n",
    "test.drop('emp_title', axis=1, inplace=True)\n",
    "test.drop('emp_length', axis=1, inplace=True)\n",
    "\n",
    "test['home_ownership'].replace(['MORTGAGE','OTHER','RENT','NONE'],0,inplace=True)\n",
    "test['home_ownership'].replace('OWN',1,inplace=True)\n",
    "test['home_ownership'] = test['home_ownership'].astype('int8')\n",
    "\n",
    "test['verification_status'].replace('Source Verified','Verified',inplace=True)\n",
    "test['verification_status'] = test['verification_status'].astype('category').cat.codes\n",
    "\n",
    "test.drop('pymnt_plan',axis=1,inplace=True)\n",
    "test.drop('url',axis=1,inplace=True)\n",
    "test.drop('desc',axis=1,inplace=True)\n",
    "\n",
    "test['purpose'] = test['purpose'].astype('category').cat.codes\n",
    "\n",
    "test.drop('title',axis=1,inplace=True)\n",
    "\n",
    "test.drop('zip_code',axis=1,inplace=True)\n",
    "test['addr_state'][0] = 'IN'\n",
    "test['addr_state'] = test['addr_state'].astype('category').cat.codes\n",
    "\n",
    "test.drop('earliest_cr_line',axis=1,inplace=True)\n",
    "\n",
    "test.drop(['delinq_amnt','chargeoff_within_12_mths','acc_now_delinq','policy_code','next_pymnt_d','application_type','tax_liens','collections_12_mths_ex_med','initial_list_status','revol_util','mths_since_last_delinq','mths_since_last_record','last_pymnt_amnt','last_credit_pull_d','issue_d','last_pymnt_d'], axis=1, inplace=True)\n",
    "test = test[test['pub_rec_bankruptcies'].notna()].reset_index(drop=True)\n",
    "\n",
    "test_labels = test['loan_status'].replace('Charged Off',0).replace('Fully Paid',1).astype('int8')\n",
    "test.drop('loan_status',axis=1,inplace=True)"
   ]
  },
  {
   "cell_type": "code",
   "execution_count": 31,
   "id": "42069252",
   "metadata": {},
   "outputs": [
    {
     "name": "stdout",
     "output_type": "stream",
     "text": [
      "precision = 0.9988219454729047\n",
      "recall = 0.9985698662404308\n",
      "accuracy = 0.9977850814518434\n"
     ]
    }
   ],
   "source": [
    "clf = GradientBoostingClassifier(max_depth=7,n_estimators=5000)\n",
    "clf.fit(train,train_labels)\n",
    "pred = clf.predict(test)\n",
    "print(\"precision =\", precision_score(test_labels,pred))\n",
    "print(\"recall =\", recall_score(test_labels,pred))\n",
    "print(\"accuracy =\", accuracy_score(test_labels,pred))"
   ]
  },
  {
   "cell_type": "code",
   "execution_count": 36,
   "id": "05998f01",
   "metadata": {},
   "outputs": [
    {
     "name": "stdout",
     "output_type": "stream",
     "text": [
      "precision = 0.9973932055163135\n",
      "recall = 0.9978127366030117\n",
      "accuracy = 0.9959274078308088\n"
     ]
    }
   ],
   "source": [
    "from sklearn.tree import DecisionTreeClassifier\n",
    "tree = DecisionTreeClassifier()\n",
    "tree.fit(train,train_labels)\n",
    "dt_pred = tree.predict(test)\n",
    "print(\"precision =\", precision_score(test_labels,dt_pred))\n",
    "print(\"recall =\", recall_score(test_labels,dt_pred))\n",
    "print(\"accuracy =\", accuracy_score(test_labels,dt_pred))"
   ]
  }
 ],
 "metadata": {
  "kernelspec": {
   "display_name": "Python 3 (ipykernel)",
   "language": "python",
   "name": "python3"
  },
  "language_info": {
   "codemirror_mode": {
    "name": "ipython",
    "version": 3
   },
   "file_extension": ".py",
   "mimetype": "text/x-python",
   "name": "python",
   "nbconvert_exporter": "python",
   "pygments_lexer": "ipython3",
   "version": "3.9.7"
  }
 },
 "nbformat": 4,
 "nbformat_minor": 5
}
