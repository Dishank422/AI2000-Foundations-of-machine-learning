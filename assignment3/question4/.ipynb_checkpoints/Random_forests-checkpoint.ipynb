{
 "cells": [
  {
   "cell_type": "code",
   "execution_count": 1,
   "id": "c3adc720",
   "metadata": {},
   "outputs": [],
   "source": [
    "# Importing packages and loading data\n",
    "import numpy as np\n",
    "data = np.loadtxt(\"spam.data\")\n",
    "np.random.shuffle(data)"
   ]
  },
  {
   "cell_type": "code",
   "execution_count": 2,
   "id": "a2a6e3c1",
   "metadata": {},
   "outputs": [],
   "source": [
    "class DecisionTree():\n",
    "    \n",
    "    def __init__(self):\n",
    "        self.tree = {}\n",
    "        \n",
    "    def learn(self,train_data,m_):\n",
    "        \n",
    "        self.tree['attribute'] = np.nan\n",
    "        self.tree['threshold'] = np.nan\n",
    "        \n",
    "        records, no_of_attributes = train_data.shape\n",
    "        no_of_attributes -= 1\n",
    "        attributes_used = np.random.choice(int(no_of_attributes),size=m_)\n",
    "        p = np.count_nonzero(train_data[:,-1])/records\n",
    "        if p == 1:\n",
    "            a = {}\n",
    "            a['attribute'] = -1\n",
    "            return a\n",
    "        elif p == 0:\n",
    "            a = {}\n",
    "            a['attribute'] = -2\n",
    "            return a\n",
    "        min_entropy = 1\n",
    "        spam = np.count_nonzero(train_data[:,-1])\n",
    "        non_spam = records-spam\n",
    "        for i in attributes_used:\n",
    "            no_of_thresholds = 10\n",
    "            m = np.min(train_data[:,i])\n",
    "            M = np.max(train_data[:,i])\n",
    "            thresholds = np.linspace(m+(M-m)/(no_of_thresholds+1),M,no_of_thresholds,endpoint=False)\n",
    "            for j in range(no_of_thresholds):\n",
    "                difference = train_data[:,i] - thresholds[j]\n",
    "                Pass_spam = 0\n",
    "                Pass_non_spam = 0\n",
    "                for k in range(records):\n",
    "                    if difference[k] > 0:\n",
    "                        if train_data[k,-1] == 1:\n",
    "                            Pass_spam += 1\n",
    "                        else:\n",
    "                            Pass_non_spam += 1\n",
    "                Fail_spam = spam-Pass_spam\n",
    "                Fail_non_spam = non_spam-Pass_non_spam\n",
    "                Pass = Pass_spam+Pass_non_spam\n",
    "                Fail = records-Pass\n",
    "                \n",
    "                if Pass_spam == 0 or Pass_non_spam == 0:\n",
    "                    left_entropy = 0\n",
    "                else:\n",
    "                    left_entropy = -Pass_spam/Pass*np.log(Pass_spam/Pass)-Pass_non_spam/Pass*np.log(Pass_non_spam/Pass)\n",
    "                \n",
    "                if Fail_spam == 0 or Fail_non_spam == 0:\n",
    "                    right_entropy = 0\n",
    "                else:\n",
    "                    right_entropy = -Fail_spam/Fail*np.log(Fail_spam/Fail)-Fail_non_spam/Fail*np.log(Fail_non_spam/Fail)\n",
    "                               \n",
    "                entropy = left_entropy*Pass/(Pass+Fail)+right_entropy*Fail/(Pass+Fail)\n",
    "                if entropy <= min_entropy:\n",
    "                    min_entropy = entropy\n",
    "                    self.tree['attribute'] = i\n",
    "                    self.tree['threshold'] = thresholds[j]\n",
    "        \n",
    "        Pass_indices = []\n",
    "        Fail_indices = []\n",
    "        for x in range(records):\n",
    "            if train_data[x,self.tree['attribute']] - self.tree['threshold'] > 0:\n",
    "                Pass_indices.append(x)\n",
    "            else:\n",
    "                Fail_indices.append(x)\n",
    "        \n",
    "        if len(Pass_indices) == 0 or len(Fail_indices) == 0:\n",
    "            if p > 0.5:\n",
    "                self.tree['attribute'] = -1\n",
    "            else:\n",
    "                self.tree['attribute'] = -2\n",
    "            return self.tree\n",
    "        \n",
    "        left_subtree = DecisionTree()\n",
    "        right_subtree = DecisionTree()\n",
    "        self.tree['left_subtree'] = left_subtree.learn(train_data[Pass_indices,:],m_)\n",
    "        self.tree['right_subtree'] = right_subtree.learn(train_data[Fail_indices,:],m_)\n",
    "        return self.tree\n",
    "    \n",
    "    def classify(self, record, tree=None):\n",
    "        if tree == None:\n",
    "            tree = self.tree\n",
    "        if tree['attribute'] == -1:\n",
    "            return 1\n",
    "        elif tree['attribute'] == -2:\n",
    "            return 0\n",
    "        else:\n",
    "            if record[tree['attribute']] > tree['threshold']:\n",
    "                return self.classify(record, tree['left_subtree'])\n",
    "            else:\n",
    "                return self.classify(record, tree['right_subtree'])\n",
    "            "
   ]
  },
  {
   "cell_type": "code",
   "execution_count": 3,
   "id": "891d9442",
   "metadata": {},
   "outputs": [],
   "source": [
    "class RandomForest():\n",
    "    \n",
    "    def __init__(self):\n",
    "        self.dec_tree = []\n",
    "        self.records = []\n",
    "        self.no_of_dec_trees = 100\n",
    "        for i in range(self.no_of_dec_trees):\n",
    "            self.dec_tree.append(DecisionTree())\n",
    "        \n",
    "    def learn(self, train_data):\n",
    "        \n",
    "        m = train_data.shape[1]//3\n",
    "        for i in range(self.no_of_dec_trees):\n",
    "            records_used = np.random.choice(train_data.shape[0], train_data.shape[0]//10)\n",
    "            self.records.append(records_used)\n",
    "            temp = train_data[records_used,:]\n",
    "            self.dec_tree[i].learn(temp,m)\n",
    "        self.OOBerror(train_data)\n",
    "        \n",
    "    def classify(self, record):\n",
    "        preds = []\n",
    "        for i in range(self.no_of_dec_trees):\n",
    "            preds.append(self.dec_tree[i].classify(record))\n",
    "        if sum(preds) > len(preds)//2:\n",
    "            return 1\n",
    "        else:\n",
    "            return 0\n",
    "        \n",
    "    def OOBerror(self, train_data):\n",
    "        correct_preds = 0\n",
    "        for k in range(len(train_data)):\n",
    "            preds = []\n",
    "            for i in range(self.no_of_dec_trees):\n",
    "                if k in self.records[i]:\n",
    "                    continue\n",
    "                preds.append(self.dec_tree[i].classify(train_data[k,:])-train_data[k,-1])\n",
    "            if len(preds) > 0:\n",
    "                if np.count_nonzero(preds)/len(preds) < 1/2:\n",
    "                    correct_preds += 1\n",
    "        print(\"Out of bag error =\", 1-correct_preds/len(train_data))"
   ]
  },
  {
   "cell_type": "code",
   "execution_count": 4,
   "id": "41828a2e",
   "metadata": {
    "scrolled": true
   },
   "outputs": [
    {
     "name": "stdout",
     "output_type": "stream",
     "text": [
      "Out of bag error = 0.07080745341614902\n",
      "accuracy =  0.9355539464156408\n",
      "CPU times: user 33.2 s, sys: 21.1 ms, total: 33.2 s\n",
      "Wall time: 33.2 s\n"
     ]
    }
   ],
   "source": [
    "%%time\n",
    "# Performing Stratified sampling on the data\n",
    "data = data[data[:,-1].argsort()]\n",
    "spam = np.count_nonzero(data[:,-1])\n",
    "non_spam_data = data[:data.shape[0]-spam,:]\n",
    "spam_data = data[data.shape[0]-spam:,:]\n",
    "non_spam_train = non_spam_data[:(non_spam_data.shape[0]*7)//10,:]\n",
    "non_spam_test = non_spam_data[(non_spam_data.shape[0]*7)//10:,:]\n",
    "spam_train = spam_data[:(spam_data.shape[0]*7)//10,:]\n",
    "spam_test = spam_data[(spam_data.shape[0]*7)//10:,:]\n",
    "train_data = np.concatenate((non_spam_train,spam_train),axis=0)\n",
    "test_data = np.concatenate((non_spam_test,spam_test),axis=0)\n",
    "np.random.shuffle(train_data)\n",
    "\n",
    "# Learning and evaluating the model\n",
    "a = RandomForest()\n",
    "a.learn(train_data)\n",
    "predictions = np.zeros(len(test_data))\n",
    "for i in range(len(test_data)):\n",
    "    predictions[i] = a.classify(test_data[i,:-1])\n",
    "accuracy = 1-np.count_nonzero(predictions - test_data[:,-1])/len(test_data)\n",
    "print(\"accuracy = \", accuracy)"
   ]
  },
  {
   "cell_type": "code",
   "execution_count": 5,
   "id": "138feab4",
   "metadata": {},
   "outputs": [
    {
     "name": "stdout",
     "output_type": "stream",
     "text": [
      "CPU times: user 992 ms, sys: 700 ms, total: 1.69 s\n",
      "Wall time: 801 ms\n"
     ]
    },
    {
     "data": {
      "text/plain": [
       "0.9478638667632151"
      ]
     },
     "execution_count": 5,
     "metadata": {},
     "output_type": "execute_result"
    }
   ],
   "source": [
    "%%time\n",
    "from sklearn.ensemble import RandomForestClassifier\n",
    "clf = RandomForestClassifier()\n",
    "clf.fit(train_data[:,:-1],train_data[:,-1])\n",
    "clf.score(test_data[:,:-1],test_data[:,-1])"
   ]
  }
 ],
 "metadata": {
  "kernelspec": {
   "display_name": "Python 3 (ipykernel)",
   "language": "python",
   "name": "python3"
  },
  "language_info": {
   "codemirror_mode": {
    "name": "ipython",
    "version": 3
   },
   "file_extension": ".py",
   "mimetype": "text/x-python",
   "name": "python",
   "nbconvert_exporter": "python",
   "pygments_lexer": "ipython3",
   "version": "3.9.7"
  }
 },
 "nbformat": 4,
 "nbformat_minor": 5
}
