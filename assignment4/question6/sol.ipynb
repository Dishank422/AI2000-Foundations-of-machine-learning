{
 "cells": [
  {
   "cell_type": "code",
   "execution_count": 1,
   "id": "40234568",
   "metadata": {},
   "outputs": [],
   "source": [
    "import pandas as pd\n",
    "from pandas.tseries.holiday import *\n",
    "cal = USFederalHolidayCalendar()\n",
    "\n",
    "train = pd.read_csv(\"sample.csv\")\n",
    "test = pd.read_csv(\"test.csv\")"
   ]
  },
  {
   "cell_type": "code",
   "execution_count": 2,
   "id": "7613e30e",
   "metadata": {},
   "outputs": [],
   "source": [
    "train = train.dropna()\n",
    "\n",
    "train.drop(['key','passenger_count'],inplace=True,axis=1)\n",
    "\n",
    "train.drop(train.index[(train.pickup_longitude < -80) | (train.pickup_longitude > -65) | (train.pickup_latitude < 30) | (train.pickup_latitude > 50)],inplace=True)\n",
    "\n",
    "train.drop(train.index[(train.dropoff_longitude < -80) | (train.dropoff_longitude > -65) | (train.dropoff_latitude < 30) | (train.dropoff_latitude > 50)],inplace=True)\n",
    "\n",
    "train.drop(train.index[train.fare_amount <= 2.5],inplace=True)\n",
    "\n",
    "train['pickup_datetime']  = pd.to_datetime(train['pickup_datetime'])\n",
    "\n",
    "train.reset_index(drop=True,inplace=True)"
   ]
  },
  {
   "cell_type": "code",
   "execution_count": 3,
   "id": "eccc00ef",
   "metadata": {
    "scrolled": true
   },
   "outputs": [],
   "source": [
    "train['day_of_week'] = train['pickup_datetime'].dt.dayofweek\n",
    "train['year'] = train['pickup_datetime'].dt.year\n",
    "train['month'] = train['pickup_datetime'].dt.month\n",
    "train['hour'] = train['pickup_datetime'].dt.hour\n",
    "\n",
    "holidays = cal.holidays(start=train['pickup_datetime'].dt.date.min(),\n",
    "                        end=train['pickup_datetime'].dt.date.max())\n",
    "train['holiday'] = train['pickup_datetime'].dt.date.astype('datetime64').isin(holidays).astype('uint8')\n",
    "\n",
    "train_target = train['fare_amount']\n",
    "\n",
    "train.drop(['fare_amount','pickup_datetime'],inplace=True,axis=1)"
   ]
  },
  {
   "cell_type": "code",
   "execution_count": 4,
   "id": "2f201a64",
   "metadata": {},
   "outputs": [],
   "source": [
    "test_keys = test['key']\n",
    "test.drop(['key','passenger_count'],inplace=True,axis=1)\n",
    "test['pickup_datetime']  = pd.to_datetime(test['pickup_datetime'])"
   ]
  },
  {
   "cell_type": "code",
   "execution_count": 5,
   "id": "8b331aaf",
   "metadata": {},
   "outputs": [],
   "source": [
    "test['day_of_week'] = test['pickup_datetime'].dt.dayofweek\n",
    "test['year'] = test['pickup_datetime'].dt.year\n",
    "test['month'] = test['pickup_datetime'].dt.month\n",
    "test['hour'] = test['pickup_datetime'].dt.hour\n",
    "\n",
    "holidays = cal.holidays(start=test['pickup_datetime'].dt.date.min(),\n",
    "                        end=test['pickup_datetime'].dt.date.max())\n",
    "test['holiday'] = test['pickup_datetime'].dt.date.astype('datetime64').isin(holidays).astype('uint8')\n",
    "\n",
    "test.drop('pickup_datetime',inplace=True,axis=1)"
   ]
  },
  {
   "cell_type": "code",
   "execution_count": 6,
   "id": "ebc5be7b",
   "metadata": {},
   "outputs": [
    {
     "name": "stdout",
     "output_type": "stream",
     "text": [
      "CPU times: user 29min 8s, sys: 764 ms, total: 29min 8s\n",
      "Wall time: 29min 7s\n"
     ]
    },
    {
     "data": {
      "text/plain": [
       "GradientBoostingRegressor(max_depth=6, n_estimators=500)"
      ]
     },
     "execution_count": 6,
     "metadata": {},
     "output_type": "execute_result"
    }
   ],
   "source": [
    "%%time\n",
    "from sklearn.ensemble import GradientBoostingRegressor\n",
    "reg = GradientBoostingRegressor(n_estimators = 500, max_depth=6)\n",
    "reg.fit(train, train_target)"
   ]
  },
  {
   "cell_type": "code",
   "execution_count": 7,
   "id": "0a339349",
   "metadata": {},
   "outputs": [],
   "source": [
    "preds = reg.predict(test)\n",
    "submission = pd.DataFrame({'key': test_keys, 'fare_amount':preds.round(2)})\n",
    "submission.to_csv('sample_submission.csv',index=False)"
   ]
  }
 ],
 "metadata": {
  "kernelspec": {
   "display_name": "Python 3 (ipykernel)",
   "language": "python",
   "name": "python3"
  },
  "language_info": {
   "codemirror_mode": {
    "name": "ipython",
    "version": 3
   },
   "file_extension": ".py",
   "mimetype": "text/x-python",
   "name": "python",
   "nbconvert_exporter": "python",
   "pygments_lexer": "ipython3",
   "version": "3.9.7"
  }
 },
 "nbformat": 4,
 "nbformat_minor": 5
}
