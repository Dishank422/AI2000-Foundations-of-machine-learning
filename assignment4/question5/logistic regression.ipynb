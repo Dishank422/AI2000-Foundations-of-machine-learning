{
 "cells": [
  {
   "cell_type": "code",
   "execution_count": 1,
   "id": "c8a2e861",
   "metadata": {},
   "outputs": [],
   "source": [
    "import numpy as np\n",
    "from sklearn.metrics import precision_score\n",
    "from sklearn.metrics import recall_score\n",
    "from sklearn.metrics import accuracy_score\n",
    "\n",
    "train_features = np.array([[0.346,0.780],[0.303,0.439],[0.358,0.729],[0.602,0.863],[0.790,0.753],[0.611,0.965]])\n",
    "train_labels = np.array([0,0,0,1,1,1])\n",
    "test_features = np.array([[0.959,0.382],[0.750,0.306],[0.395,0.760],[0.823,0.764],[0.761,0.874],[0.844,0.435]])\n",
    "test_labels = np.array([0,0,0,1,1,1])\n",
    "train_features = np.column_stack([np.ones(len(train_features)),train_features])\n",
    "test_features = np.column_stack([np.ones(len(test_features)),test_features])"
   ]
  },
  {
   "cell_type": "code",
   "execution_count": 2,
   "id": "9e25d0f5",
   "metadata": {},
   "outputs": [],
   "source": [
    "\"\"\"PART A\"\"\"\n",
    "\n",
    "class LogisticRegressionClassifier():\n",
    "    \n",
    "    def __init__(self):\n",
    "        self.theta = np.array([-1,1.5,0.5])\n",
    "        self.eta = 0.1\n",
    "        self.tolerance = 0.01\n",
    "        self.epoch = 1\n",
    "        \n",
    "    def sigmoid(self,record):\n",
    "        return 1/(1+np.exp(-self.theta@record))\n",
    "        \n",
    "    def learn(self,train_features,train_labels):\n",
    "        gradient = np.array([10000,10000,10000])\n",
    "        while np.linalg.norm(gradient) > self.tolerance:\n",
    "            gradient = 0\n",
    "            for i in range(len(train_features)):\n",
    "                gradient += train_features[i,:]*(train_labels[i]-self.sigmoid(train_features[i,:]))\n",
    "            self.theta += self.eta*gradient/6\n",
    "            if self.epoch == 1:\n",
    "                print(\"weights after one iteration =\", self.theta)\n",
    "                self.epoch += 1\n",
    "            \n",
    "    def classify(self,record):\n",
    "        if self.sigmoid(record) > 0.5:\n",
    "            return 1\n",
    "        else:\n",
    "            return 0"
   ]
  },
  {
   "cell_type": "markdown",
   "id": "7bf1e33a",
   "metadata": {},
   "source": [
    "The above cell implements the logistic regression classifier required in part a of the question.\n",
    "\n",
    "Part b:\n",
    "\n",
    "The probabilty of a record being 1 at the beginning is given by\n",
    "\\begin{equation}\n",
    "    P(\\hat{y} = 1|x_1,x_2) = \\dfrac{1}{1+e^{-(-1+1.5x_1+0.5x_2)}}\n",
    "\\end{equation}\n",
    "The cross entropy error function is given by \n",
    "\\begin{equation}\n",
    "    E(w) = \\sum_ly^llnP(y^l=1|x^l,w)+(1-y^l)lnP(y^l=0|x^l,w)\n",
    "\\end{equation}\n",
    "where w = [-1, 1.5, 0.5]"
   ]
  },
  {
   "cell_type": "code",
   "execution_count": 3,
   "id": "b4c3092a",
   "metadata": {
    "scrolled": true
   },
   "outputs": [
    {
     "name": "stdout",
     "output_type": "stream",
     "text": [
      "weights after one iteration = [-1.00316626  1.50535086  0.50196867]\n",
      "Accuracy = 0.6666666666666666\n",
      "Recall = 1.0\n",
      "Precision = 0.6\n"
     ]
    }
   ],
   "source": [
    "clf = LogisticRegressionClassifier()\n",
    "clf.learn(train_features,train_labels)\n",
    "\n",
    "preds = np.zeros(6)\n",
    "for i in range(6):\n",
    "    preds[i] = clf.classify(test_features[i,:])\n",
    "\n",
    "print(\"Accuracy =\", accuracy_score(test_labels, preds))\n",
    "print(\"Recall =\", recall_score(test_labels, preds))\n",
    "print(\"Precision =\", precision_score(test_labels, preds))"
   ]
  },
  {
   "cell_type": "markdown",
   "id": "ef01d2dc",
   "metadata": {},
   "source": [
    "The updated logistic model after one iteration is\n",
    "\\begin{equation}\n",
    "    P(\\hat{y} = 1|x_1,x_2) = \\dfrac{1}{1+e^{-(-1.0032+1.5053x_1+0.502x_2)}}\n",
    "\\end{equation}\n",
    "\n",
    "After the model converges, Accuracy = 0.67, Recall = 1.0, Precision = 0.6"
   ]
  }
 ],
 "metadata": {
  "kernelspec": {
   "display_name": "Python 3 (ipykernel)",
   "language": "python",
   "name": "python3"
  },
  "language_info": {
   "codemirror_mode": {
    "name": "ipython",
    "version": 3
   },
   "file_extension": ".py",
   "mimetype": "text/x-python",
   "name": "python",
   "nbconvert_exporter": "python",
   "pygments_lexer": "ipython3",
   "version": "3.9.7"
  }
 },
 "nbformat": 4,
 "nbformat_minor": 5
}
