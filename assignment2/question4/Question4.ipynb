{
 "cells": [
  {
   "cell_type": "code",
   "execution_count": 1,
   "id": "7043248a",
   "metadata": {},
   "outputs": [],
   "source": [
    "# Importing packages and reading data\n",
    "import numpy as np\n",
    "from sklearn.svm import SVC\n",
    "from sklearn.preprocessing import StandardScaler\n",
    "train_data = np.loadtxt(\"features.train\",dtype='float64')\n",
    "test_data = np.loadtxt(\"features.test\",dtype='float64')"
   ]
  },
  {
   "cell_type": "code",
   "execution_count": 2,
   "id": "0b8e8888",
   "metadata": {},
   "outputs": [],
   "source": [
    "# Deleting unnecessary records and data pre-processing\n",
    "required_records = np.where(np.equal(train_data[:,0],1) | np.equal(train_data[:,0],5))\n",
    "train_data = train_data[required_records[0][:],:]\n",
    "\n",
    "train_data_features = train_data[:,1:]\n",
    "train_data_labels = train_data[:,0]\n",
    "\n",
    "required_records = np.where(np.equal(test_data[:,0],1) | np.equal(test_data[:,0],5))\n",
    "test_data = test_data[required_records[0][:],:]\n",
    "\n",
    "test_data_features = test_data[:,1:]\n",
    "test_data_labels = test_data[:,0]\n",
    "\n",
    "# Normalizing the features\n",
    "scaler = StandardScaler()\n",
    "scaler.fit(train_data_features)\n",
    "train_data_features = scaler.transform(train_data_features)\n",
    "test_data_features = scaler.transform(test_data_features)"
   ]
  },
  {
   "cell_type": "code",
   "execution_count": 3,
   "id": "7587cc72",
   "metadata": {},
   "outputs": [
    {
     "name": "stdout",
     "output_type": "stream",
     "text": [
      "Accuracy = 0.9811320754716981\n",
      "Number of support vectors = 36\n"
     ]
    }
   ],
   "source": [
    "\"\"\"Part A of the question\"\"\"\n",
    "\n",
    "clf = SVC(kernel='linear')\n",
    "clf.fit(train_data_features,train_data_labels)\n",
    "print(\"Accuracy =\", clf.score(test_data_features,test_data_labels))\n",
    "print(\"Number of support vectors =\", sum(clf.n_support_))"
   ]
  },
  {
   "cell_type": "code",
   "execution_count": 4,
   "id": "2989a73b",
   "metadata": {},
   "outputs": [
    {
     "name": "stdout",
     "output_type": "stream",
     "text": [
      "For first 50 records:\n",
      "Accuracy = 0.9740566037735849\n",
      "Number of support vectors = 5 \n",
      "\n",
      "For first 100 records:\n",
      "Accuracy = 0.9764150943396226\n",
      "Number of support vectors = 6 \n",
      "\n",
      "For first 200 records:\n",
      "Accuracy = 0.9811320754716981\n",
      "Number of support vectors = 12 \n",
      "\n",
      "For first 800 records:\n",
      "Accuracy = 0.9811320754716981\n",
      "Number of support vectors = 21\n"
     ]
    }
   ],
   "source": [
    "\"\"\"Part B of the question\"\"\"\n",
    "\n",
    "clf = SVC(kernel='linear')\n",
    "clf.fit(train_data_features[:50,:],train_data_labels[:50])\n",
    "print(\"For first 50 records:\")\n",
    "print(\"Accuracy =\", clf.score(test_data_features,test_data_labels))\n",
    "print(\"Number of support vectors =\", sum(clf.n_support_),\"\\n\")\n",
    "\n",
    "clf = SVC(kernel='linear')\n",
    "clf.fit(train_data_features[:100,:],train_data_labels[:100])\n",
    "print(\"For first 100 records:\")\n",
    "print(\"Accuracy =\", clf.score(test_data_features,test_data_labels))\n",
    "print(\"Number of support vectors =\", sum(clf.n_support_),\"\\n\")\n",
    "\n",
    "clf = SVC(kernel='linear')\n",
    "clf.fit(train_data_features[:200,:],train_data_labels[:200])\n",
    "print(\"For first 200 records:\")\n",
    "print(\"Accuracy =\", clf.score(test_data_features,test_data_labels))\n",
    "print(\"Number of support vectors =\", sum(clf.n_support_),\"\\n\")\n",
    "\n",
    "clf = SVC(kernel='linear')\n",
    "clf.fit(train_data_features[:800,:],train_data_labels[:800])\n",
    "print(\"For first 800 records:\")\n",
    "print(\"Accuracy =\", clf.score(test_data_features,test_data_labels))\n",
    "print(\"Number of support vectors =\", sum(clf.n_support_))"
   ]
  },
  {
   "cell_type": "code",
   "execution_count": 5,
   "id": "fd236d1d",
   "metadata": {},
   "outputs": [
    {
     "name": "stdout",
     "output_type": "stream",
     "text": [
      "For C = 0.0001:\n",
      "Training error for Q = 2: 0.356181934657271\n",
      "Training error for Q = 5: 0.356181934657271 \n",
      "\n",
      "For C = 0.001:\n",
      "Number of support vectors when Q = 2: 1112\n",
      "Number of support vectors when Q = 5: 1112 \n",
      "\n",
      "For C = 0.01:\n",
      "Training error for Q = 2: 0.35169762972453555\n",
      "Training error for Q = 5: 0.356181934657271 \n",
      "\n",
      "For C = 1:\n",
      "Testing error for Q = 2: 0.1132075471698113\n",
      "Testing error for Q = 5: 0.035377358490566 \n",
      "\n"
     ]
    }
   ],
   "source": [
    "\"\"\"Part C of the question\"\"\"\n",
    "\n",
    "# part i\n",
    "clf = SVC(kernel='poly', degree=2, gamma=0.0001)\n",
    "clf.fit(train_data_features,train_data_labels)\n",
    "print(\"For C = 0.0001:\")\n",
    "print(\"Training error for Q = 2:\", 1-clf.score(train_data_features,train_data_labels))\n",
    "\n",
    "clf = SVC(kernel='poly', degree=5, gamma=0.0001)\n",
    "clf.fit(train_data_features,train_data_labels)\n",
    "print(\"Training error for Q = 5:\", 1-clf.score(train_data_features,train_data_labels),\"\\n\")\n",
    "\n",
    "# part ii\n",
    "clf = SVC(kernel='poly', degree=2, gamma=0.001)\n",
    "clf.fit(train_data_features,train_data_labels)\n",
    "print(\"For C = 0.001:\")\n",
    "print(\"Number of support vectors when Q = 2:\", sum(clf.n_support_))\n",
    "\n",
    "clf = SVC(kernel='poly', degree=5, gamma=0.001)\n",
    "clf.fit(train_data_features,train_data_labels)\n",
    "print(\"Number of support vectors when Q = 5:\", sum(clf.n_support_),\"\\n\")\n",
    "\n",
    "# part iii\n",
    "clf = SVC(kernel='poly', degree=2, gamma=0.01)\n",
    "clf.fit(train_data_features,train_data_labels)\n",
    "print(\"For C = 0.01:\")\n",
    "print(\"Training error for Q = 2:\", 1-clf.score(train_data_features,train_data_labels))\n",
    "\n",
    "clf = SVC(kernel='poly', degree=5, gamma=0.01)\n",
    "clf.fit(train_data_features,train_data_labels)\n",
    "print(\"Training error for Q = 5:\", 1-clf.score(train_data_features,train_data_labels),\"\\n\")\n",
    "\n",
    "# part iv\n",
    "clf = SVC(kernel='poly', degree=2, gamma=1)\n",
    "clf.fit(train_data_features,train_data_labels)\n",
    "print(\"For C = 1:\")\n",
    "print(\"Testing error for Q = 2:\", 1-clf.score(test_data_features,test_data_labels))\n",
    "\n",
    "clf = SVC(kernel='poly', degree=5, gamma=1)\n",
    "clf.fit(train_data_features,train_data_labels)\n",
    "print(\"Testing error for Q = 5:\", 1-clf.score(test_data_features,test_data_labels),\"\\n\")"
   ]
  },
  {
   "cell_type": "code",
   "execution_count": 6,
   "id": "86082a5a",
   "metadata": {},
   "outputs": [
    {
     "name": "stdout",
     "output_type": "stream",
     "text": [
      "For C = 0.01:\n",
      "Training error = 0.004484304932735439\n",
      "Testing error = 0.01650943396226412 \n",
      "\n",
      "For C = 1:\n",
      "Training error = 0.0032030749519538215\n",
      "Testing error = 0.018867924528301883 \n",
      "\n",
      "For C = 100:\n",
      "Training error = 0.0012812299807815064\n",
      "Testing error = 0.04009433962264153 \n",
      "\n",
      "For C = 10000:\n",
      "Training error = 0.0\n",
      "Testing error = 0.36556603773584906 \n",
      "\n",
      "For C = 1000000:\n",
      "Training error = 0.0\n",
      "Testing error = 0.37735849056603776\n"
     ]
    }
   ],
   "source": [
    "\"\"\"Part D of the question\"\"\"\n",
    "\n",
    "clf = SVC(kernel='rbf', gamma=0.01)\n",
    "clf.fit(train_data_features,train_data_labels)\n",
    "print(\"For C = 0.01:\")\n",
    "print(\"Training error =\", 1-clf.score(train_data_features,train_data_labels))\n",
    "print(\"Testing error =\", 1-clf.score(test_data_features,test_data_labels),\"\\n\")\n",
    "\n",
    "clf = SVC(kernel='rbf', gamma=1)\n",
    "clf.fit(train_data_features,train_data_labels)\n",
    "print(\"For C = 1:\")\n",
    "print(\"Training error =\", 1-clf.score(train_data_features,train_data_labels))\n",
    "print(\"Testing error =\", 1-clf.score(test_data_features,test_data_labels),\"\\n\")\n",
    "\n",
    "clf = SVC(kernel='rbf', gamma=100)\n",
    "clf.fit(train_data_features,train_data_labels)\n",
    "print(\"For C = 100:\")\n",
    "print(\"Training error =\", 1-clf.score(train_data_features,train_data_labels))\n",
    "print(\"Testing error =\", 1-clf.score(test_data_features,test_data_labels),\"\\n\")\n",
    "\n",
    "clf = SVC(kernel='rbf', gamma=10000)\n",
    "clf.fit(train_data_features,train_data_labels)\n",
    "print(\"For C = 10000:\")\n",
    "print(\"Training error =\", 1-clf.score(train_data_features,train_data_labels))\n",
    "print(\"Testing error =\", 1-clf.score(test_data_features,test_data_labels),\"\\n\")\n",
    "\n",
    "clf = SVC(kernel='rbf', gamma=1000000)\n",
    "clf.fit(train_data_features,train_data_labels)\n",
    "print(\"For C = 1000000:\")\n",
    "print(\"Training error =\", 1-clf.score(train_data_features,train_data_labels))\n",
    "print(\"Testing error =\", 1-clf.score(test_data_features,test_data_labels))"
   ]
  }
 ],
 "metadata": {
  "kernelspec": {
   "display_name": "Python 3 (ipykernel)",
   "language": "python",
   "name": "python3"
  },
  "language_info": {
   "codemirror_mode": {
    "name": "ipython",
    "version": 3
   },
   "file_extension": ".py",
   "mimetype": "text/x-python",
   "name": "python",
   "nbconvert_exporter": "python",
   "pygments_lexer": "ipython3",
   "version": "3.9.7"
  }
 },
 "nbformat": 4,
 "nbformat_minor": 5
}
