{
 "cells": [
  {
   "cell_type": "code",
   "execution_count": 1,
   "id": "e988d92a",
   "metadata": {},
   "outputs": [],
   "source": [
    "import numpy as np\n",
    "from sklearn.svm import SVC\n",
    "train_data_features = np.loadtxt('gisette_train.data')\n",
    "train_data_labels = np.loadtxt('gisette_train.labels')\n",
    "test_data_features = np.loadtxt('gisette_valid.data')\n",
    "test_data_labels = np.loadtxt('gisette_valid.labels')"
   ]
  },
  {
   "cell_type": "code",
   "execution_count": 2,
   "id": "1e224ea5",
   "metadata": {},
   "outputs": [
    {
     "name": "stdout",
     "output_type": "stream",
     "text": [
      "For linear kernel:\n",
      "Training error = 0.0\n",
      "Testing error = 0.02400000000000002\n",
      "Number of support vectors = 1084\n"
     ]
    }
   ],
   "source": [
    "\"\"\"Part A of the question\"\"\"\n",
    "\n",
    "clf = SVC(kernel='linear')\n",
    "clf.fit(train_data_features,train_data_labels)\n",
    "print(\"For linear kernel:\")\n",
    "print(\"Training error =\",1-clf.score(train_data_features,train_data_labels))\n",
    "print(\"Testing error =\",1-clf.score(test_data_features,test_data_labels))\n",
    "print(\"Number of support vectors =\",sum(clf.n_support_))"
   ]
  },
  {
   "cell_type": "code",
   "execution_count": 3,
   "id": "bb8d808e",
   "metadata": {},
   "outputs": [
    {
     "name": "stdout",
     "output_type": "stream",
     "text": [
      "For rbf kernel:\n",
      "Training error = 0.0\n",
      "Testing error = 0.5\n",
      "Number of support vectors = 6000 \n",
      "\n",
      "For polynomial kernel:\n",
      "Training error = 0.0\n",
      "Testing error = 0.02100000000000002\n",
      "Number of support vectors = 1755\n"
     ]
    }
   ],
   "source": [
    "\"\"\"Part B of the question\"\"\"\n",
    "\n",
    "clf = SVC(kernel='rbf',gamma=0.001)\n",
    "clf.fit(train_data_features,train_data_labels)\n",
    "print(\"For rbf kernel:\")\n",
    "print(\"Training error =\",1-clf.score(train_data_features,train_data_labels))\n",
    "print(\"Testing error =\",1-clf.score(test_data_features,test_data_labels))\n",
    "print(\"Number of support vectors =\",sum(clf.n_support_),\"\\n\")\n",
    "\n",
    "\n",
    "clf = SVC(kernel='poly',degree=2,gamma=1)\n",
    "clf.fit(train_data_features,train_data_labels)\n",
    "print(\"For polynomial kernel:\")\n",
    "print(\"Training error =\",1-clf.score(train_data_features,train_data_labels))\n",
    "print(\"Testing error =\",1-clf.score(test_data_features,test_data_labels))\n",
    "print(\"Number of support vectors =\",sum(clf.n_support_))"
   ]
  }
 ],
 "metadata": {
  "kernelspec": {
   "display_name": "Python 3 (ipykernel)",
   "language": "python",
   "name": "python3"
  },
  "language_info": {
   "codemirror_mode": {
    "name": "ipython",
    "version": 3
   },
   "file_extension": ".py",
   "mimetype": "text/x-python",
   "name": "python",
   "nbconvert_exporter": "python",
   "pygments_lexer": "ipython3",
   "version": "3.9.5"
  }
 },
 "nbformat": 4,
 "nbformat_minor": 5
}
